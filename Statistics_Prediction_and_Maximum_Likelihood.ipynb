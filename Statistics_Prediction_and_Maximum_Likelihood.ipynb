{
 "cells": [
  {
   "cell_type": "markdown",
   "metadata": {},
   "source": [
    "# Grade: /100 Mark(s)\n",
    "\n",
    "# Assignment 02: Maximum Likelihood\n",
    "\n",
    "\n",
    "### Maximum Likelihood\n",
    "\n",
    "The poisson distribution https://en.wikipedia.org/wiki/Poisson_distribution is a discrete probability distribution often used to describe count-based data, like how many snowflakes fall in a day.\n",
    "\n",
    "If we have count data $y$ that are influenced by a covariate or feature $x$, we can used the maximum likelihood principle to develop a regression model that estimates the mean of $Y$ given $X = x$.\n",
    "\n",
    "### Follow These Instructions\n",
    "\n",
    "Once you are finished, ensure to complete the following steps.\n",
    "\n",
    "1.  Restart your kernel by clicking 'Kernel' > 'Restart & Run All'.\n",
    "\n",
    "2.  Fix any errors which result from this.\n",
    "\n",
    "3.  Repeat steps 1. and 2. until your notebook runs without errors.\n",
    "\n",
    "4.  Submit your completed notebook to OWL by the deadline.\n"
   ]
  },
  {
   "cell_type": "code",
   "execution_count": 100,
   "metadata": {},
   "outputs": [],
   "source": [
    "#Packages for this assignment\n",
    "import numpy as np\n",
    "import matplotlib.pyplot as plt\n",
    "import pandas as pd\n",
    "from scipy.optimize import minimize as so\n",
    "from scipy.special import gammaln\n",
    "from sklearn import linear_model\n",
    "from IPython.display import display"
   ]
  },
  {
   "cell_type": "markdown",
   "metadata": {},
   "source": [
    "### Question 1: /10 Marks\n",
    "\n",
    "The negative log likelihood for a Poisson random variable is\n",
    "\n",
    "$$\\ell(\\lambda; \\mathbf{y}) = -\\sum_{i=1}^N\\Bigg(   y_{i}\\cdot \\ln(\\lambda) - \\lambda - \\ln(y_i!) \\Bigg)$$\n",
    "\n",
    "Here, $\\mathbf{y}$ is a vector of counts and $\\lambda$ is a scalar value.\n",
    "\n",
    "Write a function called `poissonNegLogLikelihood` that takes a vector of counts $\\mathbf{y}$ and a parameter $\\lambda$ and returns the negative log likelihood.  The $\\sum_{i} \\ln(y!)$ does not affect the location of the maximum, and so you can omit the $ \\ln(y!)$ in your function.\n",
    "\n",
    "Test your function by calling it with `lam = 1.3` and `y=np.array([2,1,0,0])`.\n",
    "\n",
    "What happens when you call the function when `lam=np.array([1,0.5,1,3])` and  `y=np.array([2,1,0,0])`? \n",
    "\n",
    "Answer the following below in markdown: What happens when you set an element of lam to 0 or a negative number and why? \n"
   ]
  },
  {
   "cell_type": "markdown",
   "metadata": {},
   "source": [
    "#### Answer to Question 1\n",
    "\n",
    "Your answer here."
   ]
  },
  {
   "cell_type": "code",
   "execution_count": 101,
   "metadata": {},
   "outputs": [
    {
     "data": {
      "text/plain": [
       "6.193147180559945"
      ]
     },
     "execution_count": 101,
     "metadata": {},
     "output_type": "execute_result"
    }
   ],
   "source": [
    "# We define the poisson negative log likelihood function as follows\n",
    "def poissonNegLogLikelihood(lam,y):\n",
    "    # Read up on the gamma function to make sure you get the likelihood right!\n",
    "    neg_log_lik = -1 * sum(y*np.log(lam)-lam)\n",
    "    return neg_log_lik\n",
    "\n",
    "# We test the poisson negative log likelihood function as follows\n",
    "lam = 1.3\n",
    "y = np.array([2,1,0,0])\n",
    "poissonNegLogLikelihood(lam,y)\n",
    "\n",
    "# We obtain the value 4.412907206597527\n",
    "\n",
    "lam=np.array([1,0.5,1,3])\n",
    "y = np.array([2,1,0,0])\n",
    "poissonNegLogLikelihood(lam,y)\n",
    "\n",
    "# We obtain the value 6.193147180559945, this occurs as we take a array of lam vals\n",
    "# and perform the subsequent sum using both arrays\n",
    "\n",
    "# When you set an element of lam to 0 you get a divide by zero error\n",
    "# Since you division by zero is not defined for the function\n",
    "# When you set an element of lam to negative you get an invalid error because you \n",
    "# cant take the ln of a negative number\n"
   ]
  },
  {
   "cell_type": "markdown",
   "metadata": {},
   "source": [
    "---\n",
    "\n",
    "### Question 2: /15 Marks\n",
    "\n",
    "Write a function called `poissonRegressionNegLogLikelihood` that takes as arguments a vector $\\mathbf{y}$ of counts, a design matrix $\\mathbf{X}$ of features for each count, and a vector $\\mathbf{\\beta}$ of parameters. The function should return the negative log likelihood of this dataset, assuming that each element of  $\\mathbf{y}$ is independent and Poisson distributed with parameter $\\lambda = \\exp(\\mathbf{X}\\beta)$.\n",
    "\n",
    "Hint: You can use `poissonNegLogLikelihood` in this answer!\n",
    "Test your function by calling it with \n",
    "* `b=np.array([1,2])`\n",
    "* `X=np.array([[1,2,3],[2,3,1]]).T`\n",
    "* `y=np.array([0,2,10])`\n"
   ]
  },
  {
   "cell_type": "code",
   "execution_count": 102,
   "metadata": {},
   "outputs": [
    {
     "data": {
      "text/plain": [
       "3211.7843052468816"
      ]
     },
     "execution_count": 102,
     "metadata": {},
     "output_type": "execute_result"
    }
   ],
   "source": [
    "# We define the poisson regression log likelihood as follows\n",
    "def poissonRegressionNegLogLikelihood(b, X, y):\n",
    "    #Enter the expression for lambda as shown above!\n",
    "    lam = np.exp(np.dot(X,b))\n",
    "    # Use poissonNegLogLikelihood to compute the likelihood\n",
    "    neg_log_lik = poissonNegLogLikelihood(lam,y)\n",
    "    return neg_log_lik\n",
    "\n",
    "# We test the function as follows\n",
    "b=np.array([1,2])\n",
    "X=np.array([[1,2,3],[2,3,1]]).T\n",
    "y=np.array([0,2,10])\n",
    "poissonRegressionNegLogLikelihood(b, X, y)\n",
    "# The value is 3211.7843052468816"
   ]
  },
  {
   "cell_type": "markdown",
   "metadata": {},
   "source": [
    "### Question 3: /10 Marks\n",
    "\n",
    "a) In `poissonRegressionNegLogLikelihood`, why did we apply the exponential function to $\\mathbf{X}\\beta$?  Hint: Can an exponential ever be negative?\n",
    "\n",
    "b) What might have happened had we just passed $\\lambda = \\mathbf{X}\\beta$?\n",
    "\n",
    "Answer parts a) and b) below in this cell.  Write no more than 2 sentences per answer! \n",
    "\n",
    "---\n",
    "\n",
    "a) The function exp maps to positive reals, so we know that the value of lambda will always be positive.\n",
    "Thus our function will always work.\n",
    "\n",
    "b) As we saw in question 1 if we dont transform the lambda value we could pass a negative or zero value.\n",
    "Thus we would obtain a division by zero error or an invalid error\n"
   ]
  },
  {
   "cell_type": "markdown",
   "metadata": {},
   "source": [
    "### Question 4: /5 Marks\n",
    "\n",
    "Write a function called `modelPrediction` which accepts as its first argument a vector of coefficents $\\beta$ and a design matrix $\\mathbf{X}$.  The function should return predictions of the form $\\widehat{\\mathbf{y}} = \\exp(\\mathbf{X}\\beta)$. \n",
    "\n",
    "Hint: Numpy implements the exponential using `np.exp`.  \n",
    "\n",
    "Test your function by calling it with \n",
    "* `b=np.array([1,2])`\n",
    "* `X=np.array([[1,2,3],[2,3,1]]).T`"
   ]
  },
  {
   "cell_type": "code",
   "execution_count": 103,
   "metadata": {},
   "outputs": [
    {
     "data": {
      "text/plain": [
       "array([ 148.4131591 , 2980.95798704,  148.4131591 ])"
      ]
     },
     "execution_count": 103,
     "metadata": {},
     "output_type": "execute_result"
    }
   ],
   "source": [
    "# We define the model prediction function as follows\n",
    "def modelPrediction(b,X):\n",
    "    yhat = np.exp(np.dot(X,b))\n",
    "    return yhat\n",
    "# We test the function as follows\n",
    "b=np.array([1,2])\n",
    "X=np.array([[1,2,3],[2,3,1]]).T\n",
    "modelPrediction(b,X)\n",
    "\n"
   ]
  },
  {
   "cell_type": "markdown",
   "metadata": {},
   "source": [
    "### Question 5: /15 Marks\n",
    "\n",
    "Write a function called `fitModel` which accepts as its first argument argument a design matrix $\\mathbf{X}$ and as its second argument a vector of outcomes counts $\\mathbf{y}$. The function should return the maximum likelihood estimates for the coefficients of a Poisson regression of $\\mathbf{y}$ onto $\\mathbf{X}$.\n",
    "\n",
    "Test your function by calling it with \n",
    "* `X=np.array([[1,2,3],[2,3,1]]).T`\n",
    "* `y=np.array([0,2,10])`\n",
    "\n",
    "What is your estimated b? "
   ]
  },
  {
   "cell_type": "code",
   "execution_count": 104,
   "metadata": {},
   "outputs": [
    {
     "data": {
      "text/plain": [
       "array([ 0.94827555, -0.52953518])"
      ]
     },
     "execution_count": 104,
     "metadata": {},
     "output_type": "execute_result"
    }
   ],
   "source": [
    "import scipy.optimize as so\n",
    "# We define the fit model function as follows\n",
    "def fitModel(X,y):\n",
    "    # Instantiate a guess for the betas, beta_start, so that the optimizer has somewhere to start\n",
    "    # Keep in mind what shape the beta_start should be. It shoud have the same number of elements as X as columns\n",
    "    nrows,ncols = X.shape\n",
    "    beta_start = np.zeros((ncols,1))\n",
    "    # Minimize the appropriate likelihood function\n",
    "    mle = so.minimize(poissonRegressionNegLogLikelihood, beta_start, args=(X, y), method=\"Powell\", tol = 1e-8)\n",
    "    # Extract the maximum likelihood estimates from the optimizer.\n",
    "    betas = mle.x\n",
    "    return betas\n",
    "\n",
    "# Write code to show your estimated b.\n",
    "X=np.array([[1,2,3],[2,3,1]]).T\n",
    "y=np.array([0,2,10])\n",
    "fitModel(X,y)\n",
    "# We obtain the estimated betas"
   ]
  },
  {
   "cell_type": "markdown",
   "metadata": {},
   "source": [
    "### Question 6: /20 Mark(s)\n",
    "\n",
    "Load in the data from `poisson_regression_data.csv`. Plot a scatterplot of the data. Fit a poisson regression to this data using the functions you wrote above.  Plot the model predictions over $x \\in [-2,2]$ on the same graph as the scatterplot of the data.  "
   ]
  },
  {
   "cell_type": "code",
   "execution_count": 105,
   "metadata": {},
   "outputs": [
    {
     "data": {
      "text/plain": [
       "[<matplotlib.lines.Line2D at 0x7f84fe4e1f70>]"
      ]
     },
     "execution_count": 105,
     "metadata": {},
     "output_type": "execute_result"
    },
    {
     "data": {
      "image/png": "[encoded data removed]",
      "text/plain": [
       "<Figure size 720x480 with 1 Axes>"
      ]
     },
     "metadata": {
      "needs_background": "light"
     },
     "output_type": "display_data"
    }
   ],
   "source": [
    "# Loading in the data.  \n",
    "df = pd.read_csv('poisson_regression_data.csv')\n",
    "\n",
    "fig, ax = plt.subplots(dpi = 120)\n",
    "df.plot.scatter(x = 'x', y = 'y', alpha = 0.5, ax = ax)\n",
    "ax.set_xlabel('x')\n",
    "ax.set_ylabel('y')\n",
    "ax.set_title('Scatterplot of the poisson regression data')\n",
    "# Scatterplot the data. \n",
    "\n",
    "# Fit the model.  Use your functions.  \n",
    "x = df.x.values \n",
    "n = len(df.index)\n",
    "X = np.c_[np.ones(n),x]\n",
    "y= df.y.values\n",
    "\n",
    "# Find the maximum likelihood estimates for the coefficients for this data\n",
    "betas = fitModel(X,y)\n",
    "\n",
    "# Make predictions on new data\n",
    "newx = np.linspace(-2,2,1001)\n",
    "newX = np.c_[np.ones(1001),newx]\n",
    "\n",
    "# Make predictions on the new data\n",
    "y_predicted= modelPrediction(betas,newX)\n",
    "\n",
    "#Finally, plot the predictions on the same axis and color the predictions red\n",
    "plt.plot(newx, y_predicted, c='red')\n",
    "\n",
    "\n"
   ]
  },
  {
   "cell_type": "markdown",
   "metadata": {},
   "source": [
    "### Question 7:  /20 Marks\n",
    "\n",
    "Now apply linear regression (ordinary least squares) to the data, obtain parameter estimates and and plot the predictions over the same range.\n"
   ]
  },
  {
   "cell_type": "code",
   "execution_count": 106,
   "metadata": {},
   "outputs": [
    {
     "data": {
      "text/plain": [
       "[<matplotlib.lines.Line2D at 0x7f84fe66f1c0>]"
      ]
     },
     "execution_count": 106,
     "metadata": {},
     "output_type": "execute_result"
    },
    {
     "data": {
      "image/png": "[encoded data removed]",
      "text/plain": [
       "<Figure size 720x480 with 1 Axes>"
      ]
     },
     "metadata": {
      "needs_background": "light"
     },
     "output_type": "display_data"
    }
   ],
   "source": [
    "# Hint: Very similar to the previous assignment\n",
    "# Read in the data\n",
    "df = pd.read_csv('poisson_regression_data.csv')\n",
    "\n",
    "# Fit the model.  Use your functions.  \n",
    "x = df.x.values \n",
    "n = len(df.index)\n",
    "X = np.c_[np.ones(n),x]\n",
    "y= df.y.values\n",
    "\n",
    "# fit the model\n",
    "ols_fit = linear_model.LinearRegression()\n",
    "ols_fit.fit(X, y)\n",
    "betas = ols_fit.coef_\n",
    "betas \n",
    "\n",
    "# The model has coefficients b0=0 and b1=1.69532321\n",
    "# Plot a scatter plot of the data and your model's predictions\n",
    "fig, ax = plt.subplots(dpi = 120)\n",
    "df.plot.scatter(x = 'x', y = 'y', alpha = 0.5, ax = ax)\n",
    "ax.set_xlabel('x')\n",
    "ax.set_ylabel('y')\n",
    "ax.set_title('Scatterplot of the poisson regression data')\n",
    "# Scatterplot the data. \n",
    "\n",
    "# Make predictions on new data\n",
    "newx = np.linspace(-2,2,1001)\n",
    "newX = np.c_[np.ones(1001),newx]\n",
    "\n",
    "# Make predictions on the new data\n",
    "y_predicted = ols_fit.predict(newX)\n",
    "\n",
    "#Finally, plot the predictions on the same axis and color the predictions red\n",
    "plt.plot(newx, y_predicted, c='red')\n",
    "\n",
    "\n"
   ]
  },
  {
   "cell_type": "markdown",
   "metadata": {},
   "source": [
    "### Question 8: /5 Mark(s)\n",
    "\n",
    "Do you see any major problems with the predictions from linear regression? Keep in mind that this model is intended to model counts of things.  Provide your answer below in markdown in fewer than 5 sentences. "
   ]
  },
  {
   "cell_type": "markdown",
   "metadata": {},
   "source": [
    "#### Answer\n",
    "\n",
    "A major problem from the linear regression model is that it fits data in a straight line however the data curves upward.\n",
    "The poisson model cannot be modelled efficiently using linear regression.\n",
    "Notice that there are many points above and below the fitted line.\n",
    "This will cause a very low R2 value compared to the model from question 6."
   ]
  },
  {
   "cell_type": "markdown",
   "metadata": {},
   "source": [
    "### Follow These Instructions\n",
    "\n",
    "Once you are finished, ensure to complete the following steps.\n",
    "\n",
    "1.  Restart your kernel by clicking 'Kernel' > 'Restart & Run All'.\n",
    "\n",
    "2.  Fix any errors which result from this.\n",
    "\n",
    "3.  Repeat steps 1. and 2. until your notebook runs without errors.\n",
    "\n",
    "4.  Submit your completed notebook to OWL by the deadline."
   ]
  },
  {
   "cell_type": "code",
   "execution_count": null,
   "metadata": {},
   "outputs": [],
   "source": []
  }
 ],
 "metadata": {
  "kernelspec": {
   "display_name": "Python 3",
   "language": "python",
   "name": "python3"
  },
  "language_info": {
   "codemirror_mode": {
    "name": "ipython",
    "version": 3
   },
   "file_extension": ".py",
   "mimetype": "text/x-python",
   "name": "python",
   "nbconvert_exporter": "python",
   "pygments_lexer": "ipython3",
   "version": "3.8.5"
  }
 },
 "nbformat": 4,
 "nbformat_minor": 4
}
